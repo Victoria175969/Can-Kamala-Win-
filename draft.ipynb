{
 "cells": [
  {
   "cell_type": "code",
   "execution_count": 1,
   "id": "66cddc60-a8a3-4de3-ac32-e438b60568c5",
   "metadata": {},
   "outputs": [],
   "source": [
    "import pandas as pd"
   ]
  },
  {
   "cell_type": "code",
   "execution_count": 2,
   "id": "99477a12-2959-484d-8b98-7ad767be0581",
   "metadata": {},
   "outputs": [],
   "source": [
    "def process_for_2016(dataframe):\n",
    "    print('do modifications')"
   ]
  },
  {
   "cell_type": "code",
   "execution_count": 5,
   "id": "721b6fe8-593a-462e-beae-96eb4c02e68e",
   "metadata": {},
   "outputs": [],
   "source": [
    "def load_pandas_dataframe(path):\n",
    "    df = pd.read_csv(path)\n",
    "    return df"
   ]
  },
  {
   "cell_type": "code",
   "execution_count": null,
   "id": "7bdbba7b-b182-44bb-a220-fc5c65825870",
   "metadata": {},
   "outputs": [],
   "source": [
    "victoria = load_pandas_dataframe('sdfjhdsaf')"
   ]
  },
  {
   "cell_type": "code",
   "execution_count": null,
   "id": "fdbe3af0-e2b6-4ddb-840f-4b8fe70e17fa",
   "metadata": {},
   "outputs": [],
   "source": []
  },
  {
   "cell_type": "code",
   "execution_count": null,
   "id": "f92ab0bc-3700-49a5-bad3-079337d38518",
   "metadata": {},
   "outputs": [],
   "source": []
  },
  {
   "cell_type": "code",
   "execution_count": null,
   "id": "2d02d459-86eb-4928-8542-4710088dded6",
   "metadata": {},
   "outputs": [],
   "source": []
  }
 ],
 "metadata": {
  "kernelspec": {
   "display_name": "Python 3 (ipykernel)",
   "language": "python",
   "name": "python3"
  },
  "language_info": {
   "codemirror_mode": {
    "name": "ipython",
    "version": 3
   },
   "file_extension": ".py",
   "mimetype": "text/x-python",
   "name": "python",
   "nbconvert_exporter": "python",
   "pygments_lexer": "ipython3",
   "version": "3.12.4"
  }
 },
 "nbformat": 4,
 "nbformat_minor": 5
}
